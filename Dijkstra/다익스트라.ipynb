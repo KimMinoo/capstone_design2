{
 "cells": [
  {
   "cell_type": "code",
   "execution_count": 1,
   "metadata": {},
   "outputs": [],
   "source": [
    "import pandas as pd\n",
    "import json\n",
    "import numpy as np\n",
    "import math\n",
    "import heapq\n",
    "\n",
    "# total_link = pd.read_csv(\"C:/Users/gimm7/OneDrive/바탕 화면/last_weight_arranegment.csv\", encoding='cp949')\n",
    "total_link = pd.read_csv(\"C:/Users/gimm7/OneDrive/바탕 화면/last_weight_arranegment.csv\")\n",
    "total_link.reset_index()\n",
    "total_node = pd.read_csv(\"C:/capstone_design2_data/total_node.csv\")\n",
    "\n",
    "def compose_coordinate(latitude, longitude):\n",
    "    composed_coordinate = '['+ str(longitude)+ ','+ str(latitude)+ ']'\n",
    "    return composed_coordinate\n",
    "\n",
    "# def haversine_distance(coord1, coord2):\n",
    "#     R = 6371.0  # Earth's radius in km\n",
    "#     lat1 = math.radians(coord1[0])\n",
    "#     lon1 = math.radians(coord1[1])\n",
    "#     lat2 = math.radians(coord2[0])\n",
    "#     lon2 = math.radians(coord2[1])\n",
    "#     dlat = lat2 - lat1\n",
    "#     dlon = lon2 - lon1\n",
    "#     a = math.sin(dlat / 2)**2 + math.cos(lat1) * math.cos(lat2) * math.sin(dlon / 2)**2\n",
    "#     c = 2 * math.atan2(math.sqrt(a), math.sqrt(1 - a))\n",
    "\n",
    "#     distance = R * c\n",
    "#     return distance\n",
    "\n",
    "def haversine_distance(lat1, lon1, lat2, lon2):\n",
    "    R = 6371.0  # Earth's radius in km\n",
    "    lat1 = math.radians(lat1)\n",
    "    lon1 = math.radians(lon1)\n",
    "    lat2 = math.radians(lat2)\n",
    "    lon2 = math.radians(lon2)\n",
    "    dlat = lat2 - lat1\n",
    "    dlon = lon2 - lon1\n",
    "    a = math.sin(dlat / 2)**2 + math.cos(lat1) * math.cos(lat2) * math.sin(dlon / 2)**2\n",
    "    c = 2 * math.atan2(math.sqrt(a), math.sqrt(1 - a))\n",
    "\n",
    "    distance = R * c\n",
    "\n",
    "    #distance = ((lat1-lat2)**2+(lon1-lon2)**2)**0.5\n",
    "\n",
    "\n",
    "\n",
    "    return distance\n"
   ]
  },
  {
   "cell_type": "code",
   "execution_count": 2,
   "metadata": {},
   "outputs": [
    {
     "data": {
      "text/plain": [
       "108609"
      ]
     },
     "execution_count": 2,
     "metadata": {},
     "output_type": "execute_result"
    }
   ],
   "source": [
    "total_node['경도반올림'] = total_node['경도'].round(9)\n",
    "total_node['위도반올림'] = total_node['위도'].round(9)\n",
    "total_node.drop_duplicates(keep='first')\n",
    "total_node.duplicated(['경도반올림','위도반올림']).sum()\n",
    "total_node.duplicated(['경도','위도']).sum()"
   ]
  },
  {
   "cell_type": "markdown",
   "metadata": {},
   "source": [
    "# 시작점 입력"
   ]
  },
  {
   "cell_type": "code",
   "execution_count": 3,
   "metadata": {},
   "outputs": [],
   "source": [
    "dep_lat, dep_lon = 37.2825468,127.0382127\n",
    "des_lat, des_lon = 37.2670259,127.0548853\n",
    "# dep_lat = 37.28293695757347\n",
    "# dep_lon = 127.0434230405271\n",
    "# des_lat = 37.28312042096528\n",
    "# des_lon = 127.04739397575078"
   ]
  },
  {
   "cell_type": "markdown",
   "metadata": {},
   "source": [
    "# Get Nearest Node"
   ]
  },
  {
   "cell_type": "code",
   "execution_count": 4,
   "metadata": {},
   "outputs": [],
   "source": [
    "def get_Nearest_Node(latitude, longitude):\n",
    "    length_filter = 0.0003\n",
    "    min_distance = 1e9\n",
    "    nearest_lat = 0\n",
    "    nearest_lon = 0\n",
    "    nearest_idx = 0\n",
    "    \n",
    "    filtered_df = total_node.loc[(total_node['위도'] > latitude - length_filter) & (total_node['위도'] < latitude + length_filter) & (total_node['경도'] > longitude - length_filter) & (total_node['경도'] < longitude + length_filter)]\n",
    "    for index, row in filtered_df.iterrows():\n",
    "\n",
    "        cur_node_lat = row['위도']\n",
    "        cur_node_lon = row['경도']\n",
    "        cur_distance = haversine_distance(latitude, longitude, cur_node_lat, cur_node_lon)\n",
    "\n",
    "        if cur_distance < min_distance:\n",
    "            min_distance = cur_distance\n",
    "            nearest_lat = cur_node_lat\n",
    "            nearest_lon = cur_node_lon\n",
    "            nearest_idx = index\n",
    "\n",
    "    #return filtered_df\n",
    "    return nearest_idx, nearest_lat, nearest_lon\n",
    "    \n",
    "\n",
    "start_idx, start_lat, start_lon = get_Nearest_Node(dep_lat, dep_lon)\n",
    "end_idx, end_lat, end_lon = get_Nearest_Node(des_lat, des_lon)"
   ]
  },
  {
   "cell_type": "code",
   "execution_count": 5,
   "metadata": {},
   "outputs": [
    {
     "name": "stdout",
     "output_type": "stream",
     "text": [
      "208571 202277\n"
     ]
    }
   ],
   "source": [
    "print(start_idx, end_idx)"
   ]
  },
  {
   "cell_type": "markdown",
   "metadata": {},
   "source": [
    "# 다익스트라 알고리즘"
   ]
  },
  {
   "cell_type": "code",
   "execution_count": 9,
   "metadata": {},
   "outputs": [],
   "source": [
    "\n",
    "area_N = max(dep_lat, des_lat) + 0.005\n",
    "area_S = min(dep_lat, des_lat) - 0.005\n",
    "area_E = max(dep_lon, des_lon) + 0.005\n",
    "area_W = min(dep_lon, des_lon) - 0.005\n",
    "\n",
    "areal_link = total_link.loc[(total_link['노드1위도'] < area_N)\n",
    "                             & (total_link['노드2위도'] < area_N)\n",
    "                             & (total_link['노드1위도'] > area_S) \n",
    "                             & (total_link['노드2위도'] > area_S)\n",
    "                             & (total_link['노드1경도'] < area_E)\n",
    "                             & (total_link['노드2경도'] < area_E)\n",
    "                             & (total_link['노드1경도'] > area_W)\n",
    "                             & (total_link['노드2경도'] > area_W)]"
   ]
  },
  {
   "cell_type": "code",
   "execution_count": 10,
   "metadata": {},
   "outputs": [
    {
     "name": "stdout",
     "output_type": "stream",
     "text": [
      "[202277, 202276, 201459, 201456, 201457, 202269, 202270, 202271, 202272, 202273, 201794, 201618, 201612, 201613, 201614, 201615, 201616, 201617, 201662, 201663, 201089, 201090, 201091, 201092, 201093, 201094, 205653, 205650, 205651, 205652, 205208, 205205, 205206, 203881, 203882, 205213, 205210, 203879, 203880, 205262, 205263, 203859, 203860, 205064, 205065, 203931, 203932, 373951, 375654, 375653, 373916, 373915, 375749, 375748, 203934, 203953, 205005, 205004, 205008, 204014, 204013, 205328, 205327, 203901, 197826, 197825, 221090, 221092, 221094, 221096, 220729, 220730, 220731, 220732, 84580, 84581, 84582, 84576, 84577, 84557, 84558, 84566, 84564, 84562, 84559, 84560, 84555, 84556, 205734, 205733, 201157, 201158, 201159, 201160, 208813, 207886, 207887, 208817, 207884, 207885, 385780, 385781, 382735, 382736, 386316, 382561, 382562, 384886, 384936, 384935, 382664, 382663, 386031, 386030, 386028, 384909, 384908, 385036, 385034, 207892, 208737, 208739, 207924, 207925, 207926, 208602, 217216, 217218, 50708, 217213, 207960, 207961, 208794, 217208, 50706, 217201, 217202, 217203, 217204, 217205, 207893, 207894, 207968, 208571, 208571]\n"
     ]
    }
   ],
   "source": [
    "num_rows = areal_link.shape[0]\n",
    "INF = int(1e9) #최댓값 지정\n",
    "\n",
    "graph = {}\n",
    "# distance = [INF]*(num_rows+1)\n",
    "# route = [-1]*(num_rows+1)\n",
    "distance = {}\n",
    "route = {}\n",
    "\n",
    "for i in range(0, num_rows):\n",
    "    row = areal_link.iloc[i,:]\n",
    "    if int(row['idx노드1']) not in distance:\n",
    "        distance.update({int(row['idx노드1']):INF})\n",
    "        route.update({int(row['idx노드1']):-1})\n",
    "    \n",
    "    if int(row['idx노드2']) not in distance:\n",
    "        distance.update({int(row['idx노드2']):INF})\n",
    "        route.update({int(row['idx노드2']):-1})\n",
    "\n",
    "\n",
    "    if int(row['idx노드1']) in graph:\n",
    "        graph[int(row['idx노드1'])].append((int(row['idx노드2']), row['last_weight']))\n",
    "    else:\n",
    "        graph.update({int(row['idx노드1']):[(int(row['idx노드2']), row['last_weight'])]})\n",
    "    \n",
    "    \n",
    "    if int(row['idx노드2']) in graph:\n",
    "        graph[int(row['idx노드2'])].append((int(row['idx노드1']), row['last_weight']))\n",
    "    else:\n",
    "        graph.update({int(row['idx노드2']):[(int(row['idx노드1']), row['last_weight'])]})\n",
    "\n",
    "\n",
    "def dijkstra(start):\n",
    "    q = []\n",
    "    heapq.heappush(q,(0,start))\n",
    "    distance[start] = 0\n",
    "    route[start] = 0\n",
    "\n",
    "    while q:\n",
    "        dist, node = heapq.heappop(q) #우선순위 큐(heapq)를 사용\n",
    "        if distance[node] < dist: #현재 저장된 node까지의 거리가 q에서 꺼낸 거리(dist)보다 작은 경우에는 continue\n",
    "             continue\n",
    "        for next in graph[node]: \n",
    "            cost = dist + next[1] \n",
    "            if cost < distance[next[0]]:\n",
    "                distance[next[0]] = cost\n",
    "                route[next[0]] = node \n",
    "                heapq.heappush(q,(cost,next[0]))\n",
    "    return\n",
    "\n",
    "dijkstra(start_idx)\n",
    "\n",
    "def route_find(route, end_idx):\n",
    "    route_list = []\n",
    "    present = end_idx\n",
    "    while(True):\n",
    "        route_list.append(present)\n",
    "        present = route[present]\n",
    "        if present == 0:\n",
    "            route_list.append(start_idx)\n",
    "            break\n",
    "    return route_list\n",
    "\n",
    "route_list = route_find(route, end_idx)\n",
    "print(route_list)"
   ]
  },
  {
   "cell_type": "code",
   "execution_count": 11,
   "metadata": {},
   "outputs": [
    {
     "name": "stdout",
     "output_type": "stream",
     "text": [
      "[[37.2670259, 127.0548853], [37.26692507181171, 127.05498143355692], [37.26703464763264, 127.05519550558918], [37.26705382216251, 127.05523390871969], [37.2671460050456, 127.0554112369806], [37.26720236601689, 127.05518096008174], [37.267444896041816, 127.05418999979064], [37.267497878319176, 127.05397081200182], [37.26753309159701, 127.05383333790552], [37.267616620602666, 127.05348914297224], [37.26771663773516, 127.05306540825084], [37.26775811090566, 127.05288970713654], [37.26777557810375, 127.05281571576202], [37.267795926987766, 127.05272954901936], [37.26780129800692, 127.052706779668], [37.267851308943854, 127.05249490689124], [37.26792040995484, 127.05221172364116], [37.26793221640654, 127.05216167607357], [37.26799988582263, 127.05189485014972], [37.268048861176936, 127.05170172294496], [37.26806981054197, 127.0516191431403], [37.26809659412632, 127.05150479745794], [37.26811448577962, 127.05142839155071], [37.26841634725912, 127.05013863273868], [37.26845166329345, 127.04999996130915], [37.26849917111331, 127.04981521826372], [37.26862114617094, 127.04934094526146], [37.268646208926725, 127.04924349691105], [37.26868020947924, 127.04912607477902], [37.26871523663476, 127.04900511167502], [37.26875384733151, 127.04887177464444], [37.268773762060654, 127.04880300234706], [37.26879286538397, 127.04873703874296], [37.26901960708451, 127.04795391080278], [37.26907092698277, 127.04776082534516], [37.26908573491206, 127.04770509418482], [37.26910140660722, 127.0476550919544], [37.26911801676127, 127.0476020568702], [37.26919775282154, 127.04734750975402], [37.26924171614507, 127.0472071596737], [37.26928975813809, 127.04702888603404], [37.26933944242492, 127.04684454787215], [37.26936683417186, 127.0467537044666], [37.26939428108586, 127.04666269148268], [37.26941649438447, 127.04658484510868], [37.26957561141704, 127.04602722005838], [37.26984067390581, 127.04513165009718], [37.26988022545175, 127.04499799215874], [37.2699649001197, 127.04503726550328], [37.27044651151192, 127.04526064149088], [37.27051245621476, 127.04529034393384], [37.27054832885555, 127.04530650075657], [37.27058688687374, 127.04532386408728], [37.270760676975215, 127.04540213521852], [37.27111157008258, 127.04556325597925], [37.27117606491648, 127.04559286839942], [37.271210161523136, 127.04556716150812], [37.27125225197186, 127.04553542412448], [37.27160322777517, 127.04529505647903], [37.27162711138184, 127.04527870022224], [37.27166854445661, 127.04524668222044], [37.27172792038879, 127.04520661348232], [37.2719020095581, 127.04508914495588], [37.27203593029607, 127.04499877789726], [37.27217621272872, 127.04490411996112], [37.27223313691767, 127.04503434332553], [37.272669303091725, 127.04606250667852], [37.27269472774807, 127.04612243993516], [37.272714262303, 127.04616840534467], [37.27295752309698, 127.04674079794216], [37.272963791979215, 127.04675554868987], [37.27297198005709, 127.0467538528206], [37.27328856138698, 127.04763502428928], [37.27337117931909, 127.04785251209836], [37.27349315964797, 127.04817362364231], [37.2734956769654, 127.04817945584456], [37.2735129116479, 127.04810224226684], [37.27356021277181, 127.04789037115124], [37.273653283880215, 127.0475724293591], [37.273777237875024, 127.04714896078522], [37.27386985489083, 127.04683253811152], [37.27388349669511, 127.0467859465835], [37.27389228572839, 127.04675592660216], [37.27396684698012, 127.0465012017641], [37.27397867524067, 127.0464607773378], [37.27399548434788, 127.0464033519037], [37.27414162062632, 127.0459041014154], [37.27419839792472, 127.04571012496189], [37.27422705244447, 127.0456122180034], [37.27439578909812, 127.04563930118267], [37.2745160712018, 127.04565859950829], [37.27496147719844, 127.04562348699572], [37.27500039480449, 127.045620419644], [37.27500461204217, 127.04562008523484], [37.27501066756047, 127.04561960442123], [37.27506385727333, 127.0456168618627], [37.27519906118515, 127.04560989729724], [37.27521282812848, 127.04560918288894], [37.27525018487632, 127.0456132536523], [37.27531277670027, 127.0456200558309], [37.27535660094003, 127.04562482993563], [37.275490895719344, 127.04564262300585], [37.275529109581456, 127.04564032463382], [37.275777351770415, 127.04562536461177], [37.27580027430198, 127.04562398155156], [37.2758220535121, 127.04562250610054], [37.27721917858776, 127.04552760907072], [37.27728268680149, 127.04552329505422], [37.277278539765376, 127.04547946344834], [37.2772474178613, 127.04515080789056], [37.277215513209576, 127.04479135850627], [37.2772119609272, 127.04475130444264], [37.27727723137934, 127.0447462989791], [37.27808321059341, 127.04468454926106], [37.27831601705209, 127.04467285948309], [37.27837554329224, 127.0446644378762], [37.27844898123661, 127.04465403964424], [37.27849382643585, 127.04465052532788], [37.279125294285535, 127.04460103631762], [37.27917474525147, 127.0446185205834], [37.2792860997788, 127.04465790597166], [37.27930121320736, 127.04462574510474], [37.27939830618916, 127.04441921817394], [37.27956825686436, 127.04408870711524], [37.27957548954284, 127.04407463980138], [37.27972971210946, 127.04380409591488], [37.27976658745672, 127.04374125390756], [37.27981472119522, 127.04365924623536], [37.27988467127995, 127.04354006878064], [37.27991596930134, 127.04348674022155], [37.28004309722922, 127.04327012786966], [37.280203009081625, 127.04299765228664], [37.28021866064883, 127.04297098100412], [37.280235331298215, 127.04294257538886], [37.280323359829374, 127.04279257742355], [37.28042664296005, 127.04261658690768], [37.28050768711047, 127.0424784896029], [37.280629516301936, 127.04227089422685], [37.28187535402007, 127.04013035508156], [37.282431615033936, 127.03917616647328], [37.282662944191, 127.0387747239242], [37.28276446352644, 127.0386098245024], [37.282937627563946, 127.03832855641475], [37.28270246850056, 127.03826423046004], [37.28262113746081, 127.0382419853135], [37.28262113746081, 127.0382419853135], [37.2825468, 127.0382127]]\n"
     ]
    }
   ],
   "source": [
    "final_route = []\n",
    "final_route.append([des_lat, des_lon])\n",
    "\n",
    "for i in route_list:\n",
    "    lat = total_node.iloc[i][\"위도\"]\n",
    "    lon = total_node.iloc[i][\"경도\"]\n",
    "    final_route.append([lat,lon])\n",
    "final_route.append([dep_lat, dep_lon])\n",
    "\n",
    "print(final_route)"
   ]
  },
  {
   "cell_type": "markdown",
   "metadata": {},
   "source": [
    "# Folium 테스트"
   ]
  },
  {
   "cell_type": "code",
   "execution_count": 12,
   "metadata": {},
   "outputs": [
    {
     "name": "stdout",
     "output_type": "stream",
     "text": [
      "0.022778804348993098\n",
      "saved\n"
     ]
    }
   ],
   "source": [
    "import folium\n",
    "import math\n",
    "\n",
    "\n",
    "def makeMap(dep_lat, dep_lon, des_lat, des_lon):\n",
    "\n",
    "    euclid_dist = math.sqrt((des_lat - dep_lat)**2 + (des_lon - dep_lon)**2)\n",
    "    print(euclid_dist)\n",
    "\n",
    "\n",
    "    map_osm = folium.Map(location=[(dep_lat + des_lat)/2, (dep_lon + des_lon)/2], zoom_start=17)\n",
    "    # for i in final_route:\n",
    "    #     folium.Marker(location=[i[0], i[1]]).add_to(map_osm)\n",
    "\n",
    "    # Define coordinates for a line\n",
    "    line_coordinates = final_route\n",
    "    # Create a PolyLine object with the line coordinates and add it to the map\n",
    "    folium.PolyLine(locations=line_coordinates, color='blue').add_to(map_osm)\n",
    "\n",
    "\n",
    "\n",
    "\n",
    "    map_osm.save('C:/Users/gimm7/OneDrive/바탕 화면/map.html') #파일이 저장될 위치\n",
    "    print(\"saved\")\n",
    "\n",
    "makeMap(dep_lat, dep_lon, des_lat, des_lon)"
   ]
  }
 ],
 "metadata": {
  "kernelspec": {
   "display_name": "base",
   "language": "python",
   "name": "python3"
  },
  "language_info": {
   "codemirror_mode": {
    "name": "ipython",
    "version": 3
   },
   "file_extension": ".py",
   "mimetype": "text/x-python",
   "name": "python",
   "nbconvert_exporter": "python",
   "pygments_lexer": "ipython3",
   "version": "3.9.12"
  }
 },
 "nbformat": 4,
 "nbformat_minor": 2
}
