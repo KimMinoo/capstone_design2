{
 "cells": [
  {
   "cell_type": "markdown",
   "metadata": {},
   "source": [
    "# libraries"
   ]
  },
  {
   "cell_type": "code",
   "execution_count": 15,
   "metadata": {},
   "outputs": [],
   "source": [
    "import pandas as pd\n",
    "import json\n",
    "import numpy as np\n",
    "import math\n"
   ]
  },
  {
   "cell_type": "code",
   "execution_count": 21,
   "metadata": {},
   "outputs": [],
   "source": [
    "def compose_coordinate(latitude, longitude):\n",
    "    composed_coordinate = '['+ str(longitude)+ ','+ str(latitude)+ ']'\n",
    "    return composed_coordinate\n",
    "\n",
    "# def haversine_distance(coord1, coord2):\n",
    "#     R = 6371.0  # Earth's radius in km\n",
    "#     lat1 = math.radians(coord1[0])\n",
    "#     lon1 = math.radians(coord1[1])\n",
    "#     lat2 = math.radians(coord2[0])\n",
    "#     lon2 = math.radians(coord2[1])\n",
    "#     dlat = lat2 - lat1\n",
    "#     dlon = lon2 - lon1\n",
    "#     a = math.sin(dlat / 2)**2 + math.cos(lat1) * math.cos(lat2) * math.sin(dlon / 2)**2\n",
    "#     c = 2 * math.atan2(math.sqrt(a), math.sqrt(1 - a))\n",
    "\n",
    "#     distance = R * c\n",
    "#     return distance\n",
    "\n",
    "def haversine_distance(lat1, lon1, lat2, lon2):\n",
    "    R = 6371.0  # Earth's radius in km\n",
    "    lat1 = math.radians(lat1)\n",
    "    lon1 = math.radians(lon1)\n",
    "    lat2 = math.radians(lat2)\n",
    "    lon2 = math.radians(lon2)\n",
    "    dlat = lat2 - lat1\n",
    "    dlon = lon2 - lon1\n",
    "    a = math.sin(dlat / 2)**2 + math.cos(lat1) * math.cos(lat2) * math.sin(dlon / 2)**2\n",
    "    c = 2 * math.atan2(math.sqrt(a), math.sqrt(1 - a))\n",
    "\n",
    "    distance = R * c\n",
    "    return distance\n"
   ]
  },
  {
   "cell_type": "markdown",
   "metadata": {},
   "source": [
    "# import data"
   ]
  },
  {
   "cell_type": "code",
   "execution_count": 3,
   "metadata": {},
   "outputs": [
    {
     "name": "stdout",
     "output_type": "stream",
     "text": [
      "노드의 크기: (461110, 2)\n",
      "링크의 크기: (150914, 17)\n"
     ]
    }
   ],
   "source": [
    "total_node = pd.read_csv(\"./total_node.csv\")\n",
    "total_link = pd.read_csv(\"./link_b_h.csv\")\n",
    "print(\"노드의 크기:\",total_node.shape)\n",
    "print(\"링크의 크기:\",total_link.shape)"
   ]
  },
  {
   "cell_type": "markdown",
   "metadata": {},
   "source": [
    "### 노드 반올림"
   ]
  },
  {
   "cell_type": "code",
   "execution_count": 4,
   "metadata": {},
   "outputs": [],
   "source": [
    "total_node['경도반올림'] = total_node['경도'].round(9)\n",
    "total_node['위도반올림'] = total_node['위도'].round(9)"
   ]
  },
  {
   "cell_type": "markdown",
   "metadata": {},
   "source": [
    "### 중복 노드 제거 및 링크 넘버링"
   ]
  },
  {
   "cell_type": "code",
   "execution_count": 5,
   "metadata": {},
   "outputs": [
    {
     "data": {
      "text/html": [
       "<div>\n",
       "<style scoped>\n",
       "    .dataframe tbody tr th:only-of-type {\n",
       "        vertical-align: middle;\n",
       "    }\n",
       "\n",
       "    .dataframe tbody tr th {\n",
       "        vertical-align: top;\n",
       "    }\n",
       "\n",
       "    .dataframe thead th {\n",
       "        text-align: right;\n",
       "    }\n",
       "</style>\n",
       "<table border=\"1\" class=\"dataframe\">\n",
       "  <thead>\n",
       "    <tr style=\"text-align: right;\">\n",
       "      <th></th>\n",
       "      <th>경도</th>\n",
       "      <th>위도</th>\n",
       "      <th>경도반올림</th>\n",
       "      <th>위도반올림</th>\n",
       "    </tr>\n",
       "  </thead>\n",
       "  <tbody>\n",
       "    <tr>\n",
       "      <th>0</th>\n",
       "      <td>126.896267</td>\n",
       "      <td>37.258775</td>\n",
       "      <td>126.896267</td>\n",
       "      <td>37.258775</td>\n",
       "    </tr>\n",
       "    <tr>\n",
       "      <th>1</th>\n",
       "      <td>126.896269</td>\n",
       "      <td>37.258798</td>\n",
       "      <td>126.896269</td>\n",
       "      <td>37.258798</td>\n",
       "    </tr>\n",
       "    <tr>\n",
       "      <th>2</th>\n",
       "      <td>126.994921</td>\n",
       "      <td>37.253077</td>\n",
       "      <td>126.994921</td>\n",
       "      <td>37.253077</td>\n",
       "    </tr>\n",
       "    <tr>\n",
       "      <th>3</th>\n",
       "      <td>126.994904</td>\n",
       "      <td>37.253112</td>\n",
       "      <td>126.994904</td>\n",
       "      <td>37.253112</td>\n",
       "    </tr>\n",
       "    <tr>\n",
       "      <th>4</th>\n",
       "      <td>127.002715</td>\n",
       "      <td>37.254127</td>\n",
       "      <td>127.002715</td>\n",
       "      <td>37.254127</td>\n",
       "    </tr>\n",
       "    <tr>\n",
       "      <th>...</th>\n",
       "      <td>...</td>\n",
       "      <td>...</td>\n",
       "      <td>...</td>\n",
       "      <td>...</td>\n",
       "    </tr>\n",
       "    <tr>\n",
       "      <th>461102</th>\n",
       "      <td>127.001000</td>\n",
       "      <td>37.230355</td>\n",
       "      <td>127.001000</td>\n",
       "      <td>37.230355</td>\n",
       "    </tr>\n",
       "    <tr>\n",
       "      <th>461103</th>\n",
       "      <td>127.001046</td>\n",
       "      <td>37.230343</td>\n",
       "      <td>127.001046</td>\n",
       "      <td>37.230343</td>\n",
       "    </tr>\n",
       "    <tr>\n",
       "      <th>461107</th>\n",
       "      <td>127.025045</td>\n",
       "      <td>37.235468</td>\n",
       "      <td>127.025045</td>\n",
       "      <td>37.235468</td>\n",
       "    </tr>\n",
       "    <tr>\n",
       "      <th>461108</th>\n",
       "      <td>127.025000</td>\n",
       "      <td>37.235515</td>\n",
       "      <td>127.025000</td>\n",
       "      <td>37.235515</td>\n",
       "    </tr>\n",
       "    <tr>\n",
       "      <th>461109</th>\n",
       "      <td>127.024878</td>\n",
       "      <td>37.235648</td>\n",
       "      <td>127.024878</td>\n",
       "      <td>37.235648</td>\n",
       "    </tr>\n",
       "  </tbody>\n",
       "</table>\n",
       "<p>352501 rows × 4 columns</p>\n",
       "</div>"
      ],
      "text/plain": [
       "                경도         위도       경도반올림      위도반올림\n",
       "0       126.896267  37.258775  126.896267  37.258775\n",
       "1       126.896269  37.258798  126.896269  37.258798\n",
       "2       126.994921  37.253077  126.994921  37.253077\n",
       "3       126.994904  37.253112  126.994904  37.253112\n",
       "4       127.002715  37.254127  127.002715  37.254127\n",
       "...            ...        ...         ...        ...\n",
       "461102  127.001000  37.230355  127.001000  37.230355\n",
       "461103  127.001046  37.230343  127.001046  37.230343\n",
       "461107  127.025045  37.235468  127.025045  37.235468\n",
       "461108  127.025000  37.235515  127.025000  37.235515\n",
       "461109  127.024878  37.235648  127.024878  37.235648\n",
       "\n",
       "[352501 rows x 4 columns]"
      ]
     },
     "execution_count": 5,
     "metadata": {},
     "output_type": "execute_result"
    }
   ],
   "source": [
    "total_node.drop_duplicates(keep='first')"
   ]
  },
  {
   "cell_type": "code",
   "execution_count": 6,
   "metadata": {},
   "outputs": [
    {
     "data": {
      "text/plain": [
       "108609"
      ]
     },
     "execution_count": 6,
     "metadata": {},
     "output_type": "execute_result"
    }
   ],
   "source": [
    "total_node.duplicated(['경도반올림','위도반올림']).sum()"
   ]
  },
  {
   "cell_type": "code",
   "execution_count": 7,
   "metadata": {},
   "outputs": [
    {
     "data": {
      "text/plain": [
       "108609"
      ]
     },
     "execution_count": 7,
     "metadata": {},
     "output_type": "execute_result"
    }
   ],
   "source": [
    "total_node.duplicated(['경도','위도']).sum()"
   ]
  },
  {
   "cell_type": "code",
   "execution_count": 8,
   "metadata": {},
   "outputs": [
    {
     "data": {
      "text/html": [
       "<div>\n",
       "<style scoped>\n",
       "    .dataframe tbody tr th:only-of-type {\n",
       "        vertical-align: middle;\n",
       "    }\n",
       "\n",
       "    .dataframe tbody tr th {\n",
       "        vertical-align: top;\n",
       "    }\n",
       "\n",
       "    .dataframe thead th {\n",
       "        text-align: right;\n",
       "    }\n",
       "</style>\n",
       "<table border=\"1\" class=\"dataframe\">\n",
       "  <thead>\n",
       "    <tr style=\"text-align: right;\">\n",
       "      <th></th>\n",
       "      <th>경도</th>\n",
       "      <th>위도</th>\n",
       "      <th>경도반올림</th>\n",
       "      <th>위도반올림</th>\n",
       "    </tr>\n",
       "  </thead>\n",
       "  <tbody>\n",
       "    <tr>\n",
       "      <th>0</th>\n",
       "      <td>126.896267</td>\n",
       "      <td>37.258775</td>\n",
       "      <td>126.896267</td>\n",
       "      <td>37.258775</td>\n",
       "    </tr>\n",
       "    <tr>\n",
       "      <th>1</th>\n",
       "      <td>126.896269</td>\n",
       "      <td>37.258798</td>\n",
       "      <td>126.896269</td>\n",
       "      <td>37.258798</td>\n",
       "    </tr>\n",
       "    <tr>\n",
       "      <th>2</th>\n",
       "      <td>126.994921</td>\n",
       "      <td>37.253077</td>\n",
       "      <td>126.994921</td>\n",
       "      <td>37.253077</td>\n",
       "    </tr>\n",
       "    <tr>\n",
       "      <th>3</th>\n",
       "      <td>126.994904</td>\n",
       "      <td>37.253112</td>\n",
       "      <td>126.994904</td>\n",
       "      <td>37.253112</td>\n",
       "    </tr>\n",
       "    <tr>\n",
       "      <th>4</th>\n",
       "      <td>127.002715</td>\n",
       "      <td>37.254127</td>\n",
       "      <td>127.002715</td>\n",
       "      <td>37.254127</td>\n",
       "    </tr>\n",
       "  </tbody>\n",
       "</table>\n",
       "</div>"
      ],
      "text/plain": [
       "           경도         위도       경도반올림      위도반올림\n",
       "0  126.896267  37.258775  126.896267  37.258775\n",
       "1  126.896269  37.258798  126.896269  37.258798\n",
       "2  126.994921  37.253077  126.994921  37.253077\n",
       "3  126.994904  37.253112  126.994904  37.253112\n",
       "4  127.002715  37.254127  127.002715  37.254127"
      ]
     },
     "execution_count": 8,
     "metadata": {},
     "output_type": "execute_result"
    }
   ],
   "source": [
    "total_node.head()"
   ]
  },
  {
   "cell_type": "code",
   "execution_count": 9,
   "metadata": {},
   "outputs": [
    {
     "data": {
      "text/html": [
       "<div>\n",
       "<style scoped>\n",
       "    .dataframe tbody tr th:only-of-type {\n",
       "        vertical-align: middle;\n",
       "    }\n",
       "\n",
       "    .dataframe tbody tr th {\n",
       "        vertical-align: top;\n",
       "    }\n",
       "\n",
       "    .dataframe thead th {\n",
       "        text-align: right;\n",
       "    }\n",
       "</style>\n",
       "<table border=\"1\" class=\"dataframe\">\n",
       "  <thead>\n",
       "    <tr style=\"text-align: right;\">\n",
       "      <th></th>\n",
       "      <th>노드1</th>\n",
       "      <th>노드2</th>\n",
       "      <th>거리</th>\n",
       "      <th>경찰서</th>\n",
       "      <th>공원</th>\n",
       "      <th>cctv</th>\n",
       "      <th>가로등</th>\n",
       "      <th>골목상권</th>\n",
       "      <th>공공체육시설</th>\n",
       "      <th>공동주택</th>\n",
       "      <th>노인복지시설</th>\n",
       "      <th>녹지</th>\n",
       "      <th>보안등</th>\n",
       "      <th>비상급수시설</th>\n",
       "      <th>지역아동센터</th>\n",
       "      <th>청소년공부방</th>\n",
       "      <th>어린이놀이시설</th>\n",
       "    </tr>\n",
       "  </thead>\n",
       "  <tbody>\n",
       "    <tr>\n",
       "      <th>0</th>\n",
       "      <td>[126.93270132291545, 37.295702765114804]</td>\n",
       "      <td>[126.93264903971692, 37.29569846547432]</td>\n",
       "      <td>0.004649</td>\n",
       "      <td>5.159311</td>\n",
       "      <td>0</td>\n",
       "      <td>0</td>\n",
       "      <td>0</td>\n",
       "      <td>0</td>\n",
       "      <td>0</td>\n",
       "      <td>0</td>\n",
       "      <td>0</td>\n",
       "      <td>0</td>\n",
       "      <td>0</td>\n",
       "      <td>0</td>\n",
       "      <td>0</td>\n",
       "      <td>0</td>\n",
       "      <td>0</td>\n",
       "    </tr>\n",
       "    <tr>\n",
       "      <th>1</th>\n",
       "      <td>[126.93264903971692, 37.29569846547432]</td>\n",
       "      <td>[126.93259675660585, 37.29569415499454]</td>\n",
       "      <td>0.004650</td>\n",
       "      <td>5.163848</td>\n",
       "      <td>0</td>\n",
       "      <td>0</td>\n",
       "      <td>0</td>\n",
       "      <td>0</td>\n",
       "      <td>0</td>\n",
       "      <td>0</td>\n",
       "      <td>0</td>\n",
       "      <td>0</td>\n",
       "      <td>0</td>\n",
       "      <td>0</td>\n",
       "      <td>0</td>\n",
       "      <td>0</td>\n",
       "      <td>0</td>\n",
       "    </tr>\n",
       "    <tr>\n",
       "      <th>2</th>\n",
       "      <td>[126.93259675660585, 37.29569415499454]</td>\n",
       "      <td>[126.93258655212853, 37.29569331105071]</td>\n",
       "      <td>0.000908</td>\n",
       "      <td>5.166560</td>\n",
       "      <td>0</td>\n",
       "      <td>0</td>\n",
       "      <td>0</td>\n",
       "      <td>0</td>\n",
       "      <td>0</td>\n",
       "      <td>0</td>\n",
       "      <td>0</td>\n",
       "      <td>0</td>\n",
       "      <td>0</td>\n",
       "      <td>0</td>\n",
       "      <td>0</td>\n",
       "      <td>0</td>\n",
       "      <td>0</td>\n",
       "    </tr>\n",
       "    <tr>\n",
       "      <th>3</th>\n",
       "      <td>[126.93258655212853, 37.29569331105071]</td>\n",
       "      <td>[126.93254917670525, 37.295690667471995]</td>\n",
       "      <td>0.003319</td>\n",
       "      <td>5.168617</td>\n",
       "      <td>0</td>\n",
       "      <td>0</td>\n",
       "      <td>0</td>\n",
       "      <td>0</td>\n",
       "      <td>0</td>\n",
       "      <td>0</td>\n",
       "      <td>0</td>\n",
       "      <td>0</td>\n",
       "      <td>0</td>\n",
       "      <td>0</td>\n",
       "      <td>0</td>\n",
       "      <td>0</td>\n",
       "      <td>0</td>\n",
       "    </tr>\n",
       "    <tr>\n",
       "      <th>4</th>\n",
       "      <td>[126.93254917670525, 37.295690667471995]</td>\n",
       "      <td>[126.9325279527859, 37.29568872688521]</td>\n",
       "      <td>0.001890</td>\n",
       "      <td>5.171156</td>\n",
       "      <td>0</td>\n",
       "      <td>0</td>\n",
       "      <td>0</td>\n",
       "      <td>0</td>\n",
       "      <td>0</td>\n",
       "      <td>0</td>\n",
       "      <td>0</td>\n",
       "      <td>0</td>\n",
       "      <td>0</td>\n",
       "      <td>0</td>\n",
       "      <td>0</td>\n",
       "      <td>0</td>\n",
       "      <td>0</td>\n",
       "    </tr>\n",
       "  </tbody>\n",
       "</table>\n",
       "</div>"
      ],
      "text/plain": [
       "                                        노드1   \n",
       "0  [126.93270132291545, 37.295702765114804]  \\\n",
       "1   [126.93264903971692, 37.29569846547432]   \n",
       "2   [126.93259675660585, 37.29569415499454]   \n",
       "3   [126.93258655212853, 37.29569331105071]   \n",
       "4  [126.93254917670525, 37.295690667471995]   \n",
       "\n",
       "                                        노드2        거리       경찰서  공원  cctv   \n",
       "0   [126.93264903971692, 37.29569846547432]  0.004649  5.159311   0     0  \\\n",
       "1   [126.93259675660585, 37.29569415499454]  0.004650  5.163848   0     0   \n",
       "2   [126.93258655212853, 37.29569331105071]  0.000908  5.166560   0     0   \n",
       "3  [126.93254917670525, 37.295690667471995]  0.003319  5.168617   0     0   \n",
       "4    [126.9325279527859, 37.29568872688521]  0.001890  5.171156   0     0   \n",
       "\n",
       "   가로등  골목상권  공공체육시설  공동주택  노인복지시설  녹지  보안등  비상급수시설  지역아동센터  청소년공부방  어린이놀이시설  \n",
       "0    0     0       0     0       0   0    0       0       0       0        0  \n",
       "1    0     0       0     0       0   0    0       0       0       0        0  \n",
       "2    0     0       0     0       0   0    0       0       0       0        0  \n",
       "3    0     0       0     0       0   0    0       0       0       0        0  \n",
       "4    0     0       0     0       0   0    0       0       0       0        0  "
      ]
     },
     "execution_count": 9,
     "metadata": {},
     "output_type": "execute_result"
    }
   ],
   "source": [
    "total_link.head()"
   ]
  },
  {
   "cell_type": "code",
   "execution_count": 10,
   "metadata": {},
   "outputs": [],
   "source": [
    "#link의 weight을 만들었다. 나중에 거리와 위험도를 종합적으로 따져 weight값을 정할 것이고 현재는 그냥 거리값만 적용시켰다.\n",
    "total_link.insert(2, 'weight', total_link['거리'].copy())\n",
    "\n"
   ]
  },
  {
   "cell_type": "markdown",
   "metadata": {},
   "source": [
    "### 합쳐진 경도 위도 나누기"
   ]
  },
  {
   "cell_type": "code",
   "execution_count": 11,
   "metadata": {},
   "outputs": [
    {
     "data": {
      "text/html": [
       "<div>\n",
       "<style scoped>\n",
       "    .dataframe tbody tr th:only-of-type {\n",
       "        vertical-align: middle;\n",
       "    }\n",
       "\n",
       "    .dataframe tbody tr th {\n",
       "        vertical-align: top;\n",
       "    }\n",
       "\n",
       "    .dataframe thead th {\n",
       "        text-align: right;\n",
       "    }\n",
       "</style>\n",
       "<table border=\"1\" class=\"dataframe\">\n",
       "  <thead>\n",
       "    <tr style=\"text-align: right;\">\n",
       "      <th></th>\n",
       "      <th>노드1경도</th>\n",
       "      <th>노드1위도</th>\n",
       "      <th>노드2경도</th>\n",
       "      <th>노드2위도</th>\n",
       "    </tr>\n",
       "  </thead>\n",
       "  <tbody>\n",
       "    <tr>\n",
       "      <th>0</th>\n",
       "      <td>126.932701</td>\n",
       "      <td>37.295703</td>\n",
       "      <td>126.932649</td>\n",
       "      <td>37.295698</td>\n",
       "    </tr>\n",
       "    <tr>\n",
       "      <th>1</th>\n",
       "      <td>126.932649</td>\n",
       "      <td>37.295698</td>\n",
       "      <td>126.932597</td>\n",
       "      <td>37.295694</td>\n",
       "    </tr>\n",
       "    <tr>\n",
       "      <th>2</th>\n",
       "      <td>126.932597</td>\n",
       "      <td>37.295694</td>\n",
       "      <td>126.932587</td>\n",
       "      <td>37.295693</td>\n",
       "    </tr>\n",
       "    <tr>\n",
       "      <th>3</th>\n",
       "      <td>126.932587</td>\n",
       "      <td>37.295693</td>\n",
       "      <td>126.932549</td>\n",
       "      <td>37.295691</td>\n",
       "    </tr>\n",
       "    <tr>\n",
       "      <th>4</th>\n",
       "      <td>126.932549</td>\n",
       "      <td>37.295691</td>\n",
       "      <td>126.932528</td>\n",
       "      <td>37.295689</td>\n",
       "    </tr>\n",
       "  </tbody>\n",
       "</table>\n",
       "</div>"
      ],
      "text/plain": [
       "        노드1경도      노드1위도       노드2경도      노드2위도\n",
       "0  126.932701  37.295703  126.932649  37.295698\n",
       "1  126.932649  37.295698  126.932597  37.295694\n",
       "2  126.932597  37.295694  126.932587  37.295693\n",
       "3  126.932587  37.295693  126.932549  37.295691\n",
       "4  126.932549  37.295691  126.932528  37.295689"
      ]
     },
     "execution_count": 11,
     "metadata": {},
     "output_type": "execute_result"
    }
   ],
   "source": [
    "templink = pd.DataFrame( columns=['노드1경도', '노드1위도','노드2경도','노드2위도'])\n",
    "for i in range(total_link.shape[0]):\n",
    "    nodedata = json.loads(total_link['노드1'][i])\n",
    "    nodedata.extend(json.loads(total_link['노드2'][i]))\n",
    "    templink.loc[i] = nodedata\n",
    "\n",
    "templink.head()\n"
   ]
  },
  {
   "cell_type": "markdown",
   "metadata": {},
   "source": [
    "### 반올림"
   ]
  },
  {
   "cell_type": "code",
   "execution_count": 12,
   "metadata": {},
   "outputs": [],
   "source": [
    "#optional\n",
    "\n",
    "templink['노드1경도'] = templink['노드1경도'].round(9)\n",
    "templink['노드1위도'] = templink['노드1위도'].round(9)\n",
    "templink['노드2경도'] = templink['노드2경도'].round(9)\n",
    "templink['노드2위도'] = templink['노드2위도'].round(9)"
   ]
  },
  {
   "cell_type": "markdown",
   "metadata": {},
   "source": [
    "### 노드 인덱스 연결"
   ]
  },
  {
   "cell_type": "code",
   "execution_count": 13,
   "metadata": {},
   "outputs": [
    {
     "name": "stdout",
     "output_type": "stream",
     "text": [
      "21663번째 데이터[37.326324665,126.957343228] not in node\n",
      "21664번째 데이터 [37.326324665,126.957343228] not in node\n"
     ]
    }
   ],
   "source": [
    "#optional\n",
    "\n",
    "node1connect = []\n",
    "node2connect = []\n",
    "\n",
    "for i in range(templink.shape[0]):\n",
    "    \n",
    "    contemp = total_node.loc[(total_node['위도반올림'] == templink['노드1위도'][i]) & (total_node['경도반올림'] == templink['노드1경도'][i])]\n",
    "    try:\n",
    "        node1connect.append(contemp.index[0])\n",
    "    except:\n",
    "        print(\"{}번째 데이터 [{},{}] not in node\".format(i, templink['노드1위도'][i], templink['노드1경도'][i]))\n",
    "        node1connect.append(None)\n",
    "    # if len(contemp.index) > 1:\n",
    "    #     print(\"{}번째 데이터 [{},{}] duplicate node\".format(i, templink['노드1위도'][i], templink['노드1경도'][i]))\n",
    "\n",
    "    contemp = total_node.loc[(total_node['위도반올림'] == templink['노드2위도'][i]) & (total_node['경도반올림'] == templink['노드2경도'][i])]\n",
    "    try:\n",
    "        node2connect.append(contemp.index[0])\n",
    "    except:\n",
    "        print(\"{}번째 데이터[{},{}] not in node\".format(i, templink['노드2위도'][i], templink['노드2경도'][i]))\n",
    "        node2connect.append(None)\n",
    "    # if len(contemp.index) > 1:\n",
    "    #     print(\"{}번째 데이터 [{},{}] duplicate node\".format(i, templink['노드2위도'][i], templink['노드2경도'][i]))\n",
    "\n",
    "templink.insert(0, 'idx노드1', node1connect)\n",
    "templink.insert(1, 'idx노드2', node2connect)\n"
   ]
  },
  {
   "cell_type": "markdown",
   "metadata": {},
   "source": [
    "## 임시로 위 2개 데이터 삭제할것"
   ]
  },
  {
   "cell_type": "code",
   "execution_count": 14,
   "metadata": {},
   "outputs": [
    {
     "data": {
      "text/html": [
       "<div>\n",
       "<style scoped>\n",
       "    .dataframe tbody tr th:only-of-type {\n",
       "        vertical-align: middle;\n",
       "    }\n",
       "\n",
       "    .dataframe tbody tr th {\n",
       "        vertical-align: top;\n",
       "    }\n",
       "\n",
       "    .dataframe thead th {\n",
       "        text-align: right;\n",
       "    }\n",
       "</style>\n",
       "<table border=\"1\" class=\"dataframe\">\n",
       "  <thead>\n",
       "    <tr style=\"text-align: right;\">\n",
       "      <th></th>\n",
       "      <th>idx노드1</th>\n",
       "      <th>idx노드2</th>\n",
       "      <th>노드1경도</th>\n",
       "      <th>노드1위도</th>\n",
       "      <th>노드2경도</th>\n",
       "      <th>노드2위도</th>\n",
       "      <th>노드1</th>\n",
       "      <th>노드2</th>\n",
       "      <th>weight</th>\n",
       "      <th>거리</th>\n",
       "      <th>...</th>\n",
       "      <th>골목상권</th>\n",
       "      <th>공공체육시설</th>\n",
       "      <th>공동주택</th>\n",
       "      <th>노인복지시설</th>\n",
       "      <th>녹지</th>\n",
       "      <th>보안등</th>\n",
       "      <th>비상급수시설</th>\n",
       "      <th>지역아동센터</th>\n",
       "      <th>청소년공부방</th>\n",
       "      <th>어린이놀이시설</th>\n",
       "    </tr>\n",
       "  </thead>\n",
       "  <tbody>\n",
       "    <tr>\n",
       "      <th>0</th>\n",
       "      <td>71076.0</td>\n",
       "      <td>71077.0</td>\n",
       "      <td>126.932701</td>\n",
       "      <td>37.295703</td>\n",
       "      <td>126.932649</td>\n",
       "      <td>37.295698</td>\n",
       "      <td>[126.93270132291545, 37.295702765114804]</td>\n",
       "      <td>[126.93264903971692, 37.29569846547432]</td>\n",
       "      <td>0.004649</td>\n",
       "      <td>0.004649</td>\n",
       "      <td>...</td>\n",
       "      <td>0</td>\n",
       "      <td>0</td>\n",
       "      <td>0</td>\n",
       "      <td>0</td>\n",
       "      <td>0</td>\n",
       "      <td>0</td>\n",
       "      <td>0</td>\n",
       "      <td>0</td>\n",
       "      <td>0</td>\n",
       "      <td>0</td>\n",
       "    </tr>\n",
       "    <tr>\n",
       "      <th>1</th>\n",
       "      <td>71077.0</td>\n",
       "      <td>71078.0</td>\n",
       "      <td>126.932649</td>\n",
       "      <td>37.295698</td>\n",
       "      <td>126.932597</td>\n",
       "      <td>37.295694</td>\n",
       "      <td>[126.93264903971692, 37.29569846547432]</td>\n",
       "      <td>[126.93259675660585, 37.29569415499454]</td>\n",
       "      <td>0.004650</td>\n",
       "      <td>0.004650</td>\n",
       "      <td>...</td>\n",
       "      <td>0</td>\n",
       "      <td>0</td>\n",
       "      <td>0</td>\n",
       "      <td>0</td>\n",
       "      <td>0</td>\n",
       "      <td>0</td>\n",
       "      <td>0</td>\n",
       "      <td>0</td>\n",
       "      <td>0</td>\n",
       "      <td>0</td>\n",
       "    </tr>\n",
       "    <tr>\n",
       "      <th>2</th>\n",
       "      <td>71078.0</td>\n",
       "      <td>71079.0</td>\n",
       "      <td>126.932597</td>\n",
       "      <td>37.295694</td>\n",
       "      <td>126.932587</td>\n",
       "      <td>37.295693</td>\n",
       "      <td>[126.93259675660585, 37.29569415499454]</td>\n",
       "      <td>[126.93258655212853, 37.29569331105071]</td>\n",
       "      <td>0.000908</td>\n",
       "      <td>0.000908</td>\n",
       "      <td>...</td>\n",
       "      <td>0</td>\n",
       "      <td>0</td>\n",
       "      <td>0</td>\n",
       "      <td>0</td>\n",
       "      <td>0</td>\n",
       "      <td>0</td>\n",
       "      <td>0</td>\n",
       "      <td>0</td>\n",
       "      <td>0</td>\n",
       "      <td>0</td>\n",
       "    </tr>\n",
       "    <tr>\n",
       "      <th>3</th>\n",
       "      <td>71079.0</td>\n",
       "      <td>71080.0</td>\n",
       "      <td>126.932587</td>\n",
       "      <td>37.295693</td>\n",
       "      <td>126.932549</td>\n",
       "      <td>37.295691</td>\n",
       "      <td>[126.93258655212853, 37.29569331105071]</td>\n",
       "      <td>[126.93254917670525, 37.295690667471995]</td>\n",
       "      <td>0.003319</td>\n",
       "      <td>0.003319</td>\n",
       "      <td>...</td>\n",
       "      <td>0</td>\n",
       "      <td>0</td>\n",
       "      <td>0</td>\n",
       "      <td>0</td>\n",
       "      <td>0</td>\n",
       "      <td>0</td>\n",
       "      <td>0</td>\n",
       "      <td>0</td>\n",
       "      <td>0</td>\n",
       "      <td>0</td>\n",
       "    </tr>\n",
       "    <tr>\n",
       "      <th>4</th>\n",
       "      <td>71080.0</td>\n",
       "      <td>71081.0</td>\n",
       "      <td>126.932549</td>\n",
       "      <td>37.295691</td>\n",
       "      <td>126.932528</td>\n",
       "      <td>37.295689</td>\n",
       "      <td>[126.93254917670525, 37.295690667471995]</td>\n",
       "      <td>[126.9325279527859, 37.29568872688521]</td>\n",
       "      <td>0.001890</td>\n",
       "      <td>0.001890</td>\n",
       "      <td>...</td>\n",
       "      <td>0</td>\n",
       "      <td>0</td>\n",
       "      <td>0</td>\n",
       "      <td>0</td>\n",
       "      <td>0</td>\n",
       "      <td>0</td>\n",
       "      <td>0</td>\n",
       "      <td>0</td>\n",
       "      <td>0</td>\n",
       "      <td>0</td>\n",
       "    </tr>\n",
       "  </tbody>\n",
       "</table>\n",
       "<p>5 rows × 24 columns</p>\n",
       "</div>"
      ],
      "text/plain": [
       "    idx노드1   idx노드2       노드1경도      노드1위도       노드2경도      노드2위도   \n",
       "0  71076.0  71077.0  126.932701  37.295703  126.932649  37.295698  \\\n",
       "1  71077.0  71078.0  126.932649  37.295698  126.932597  37.295694   \n",
       "2  71078.0  71079.0  126.932597  37.295694  126.932587  37.295693   \n",
       "3  71079.0  71080.0  126.932587  37.295693  126.932549  37.295691   \n",
       "4  71080.0  71081.0  126.932549  37.295691  126.932528  37.295689   \n",
       "\n",
       "                                        노드1   \n",
       "0  [126.93270132291545, 37.295702765114804]  \\\n",
       "1   [126.93264903971692, 37.29569846547432]   \n",
       "2   [126.93259675660585, 37.29569415499454]   \n",
       "3   [126.93258655212853, 37.29569331105071]   \n",
       "4  [126.93254917670525, 37.295690667471995]   \n",
       "\n",
       "                                        노드2    weight        거리  ...  골목상권   \n",
       "0   [126.93264903971692, 37.29569846547432]  0.004649  0.004649  ...     0  \\\n",
       "1   [126.93259675660585, 37.29569415499454]  0.004650  0.004650  ...     0   \n",
       "2   [126.93258655212853, 37.29569331105071]  0.000908  0.000908  ...     0   \n",
       "3  [126.93254917670525, 37.295690667471995]  0.003319  0.003319  ...     0   \n",
       "4    [126.9325279527859, 37.29568872688521]  0.001890  0.001890  ...     0   \n",
       "\n",
       "   공공체육시설  공동주택  노인복지시설  녹지  보안등  비상급수시설  지역아동센터  청소년공부방  어린이놀이시설  \n",
       "0       0     0       0   0    0       0       0       0        0  \n",
       "1       0     0       0   0    0       0       0       0        0  \n",
       "2       0     0       0   0    0       0       0       0        0  \n",
       "3       0     0       0   0    0       0       0       0        0  \n",
       "4       0     0       0   0    0       0       0       0        0  \n",
       "\n",
       "[5 rows x 24 columns]"
      ]
     },
     "execution_count": 14,
     "metadata": {},
     "output_type": "execute_result"
    }
   ],
   "source": [
    "total_link = pd.concat([templink, total_link], axis=1)\n",
    "\n",
    "total_link = total_link.drop([21663, 21664])\n",
    "\n",
    "\n",
    "total_link.head()\n"
   ]
  },
  {
   "cell_type": "markdown",
   "metadata": {},
   "source": [
    "# 시작점 입력"
   ]
  },
  {
   "cell_type": "code",
   "execution_count": 162,
   "metadata": {},
   "outputs": [],
   "source": [
    "dep_lat, dep_lon = 37.27711051820087, 127.04079216093226\n",
    "des_lat, des_lon = 37.27559414340661, 127.04224810694416\n",
    "\n",
    "\n",
    "\n",
    "\n",
    "# dep_lat = 37.28293695757347\n",
    "# dep_lon = 127.0434230405271\n",
    "# des_lat = 37.28312042096528\n",
    "# des_lon = 127.04739397575078"
   ]
  },
  {
   "cell_type": "markdown",
   "metadata": {},
   "source": [
    "# Get Nearest Node\n",
    "출발점과 도착점의 가장 가까운 노드를 찾는 기능이다. "
   ]
  },
  {
   "cell_type": "code",
   "execution_count": 163,
   "metadata": {},
   "outputs": [],
   "source": [
    "def get_Nearest_Node(latitude, longitude):\n",
    "    length_filter = 0.0003\n",
    "    min_distance = 1e9\n",
    "    nearest_lat = 0\n",
    "    nearest_lon = 0\n",
    "    nearest_idx = 0\n",
    "    \n",
    "    filtered_df = total_node.loc[(total_node['위도'] > latitude - length_filter) & (total_node['위도'] < latitude + length_filter) & (total_node['경도'] < longitude - length_filter) & (total_node['경도'] < longitude + length_filter)]\n",
    "    for index, row in filtered_df.iterrows():\n",
    "\n",
    "        cur_node_lat = row['위도']\n",
    "        cur_node_lon = row['경도']\n",
    "        cur_distance = haversine_distance(latitude, longitude, cur_node_lat, cur_node_lon)\n",
    "\n",
    "        if cur_distance < min_distance:\n",
    "            min_distance = cur_distance\n",
    "            nearest_lat = cur_node_lat\n",
    "            nearest_lon = cur_node_lon\n",
    "            nearest_idx = index\n",
    "\n",
    "    #return filtered_df\n",
    "    return nearest_idx, nearest_lat, nearest_lon\n",
    "    \n",
    "\n",
    "start_idx, start_lat, start_lon = get_Nearest_Node(dep_lat, dep_lon)\n",
    "end_idx, end_lat, end_lon = get_Nearest_Node(des_lat, des_lon)\n"
   ]
  },
  {
   "cell_type": "code",
   "execution_count": 164,
   "metadata": {},
   "outputs": [
    {
     "name": "stdout",
     "output_type": "stream",
     "text": [
      "386223 84635\n"
     ]
    }
   ],
   "source": [
    "print(start_idx, end_idx)"
   ]
  },
  {
   "cell_type": "markdown",
   "metadata": {},
   "source": [
    "# 다익스트라 알고리즘"
   ]
  },
  {
   "cell_type": "code",
   "execution_count": 165,
   "metadata": {},
   "outputs": [],
   "source": [
    "num_rows = total_node.shape[0]\n",
    "dijkstra_df = {'col1': [np.inf] * num_rows, 'col2': [False] * num_rows, 'col3': [np.nan] * num_rows}\n",
    "dijkstra_df = pd.DataFrame(data=dijkstra_df)\n",
    "dijkstra_df.columns=['length', 'visited', 'route']"
   ]
  },
  {
   "cell_type": "code",
   "execution_count": 166,
   "metadata": {},
   "outputs": [],
   "source": [
    "# start_idx = 33568\n",
    "# #start_idx = 19265\n",
    "# end_idx = 4"
   ]
  },
  {
   "cell_type": "code",
   "execution_count": 167,
   "metadata": {},
   "outputs": [
    {
     "name": "stdout",
     "output_type": "stream",
     "text": [
      "unvisited empty\n"
     ]
    }
   ],
   "source": [
    "dijkstra_df.loc[start_idx, \"length\"] = 0\n",
    "dijkstra_df.at[start_idx, \"route\"] = start_idx\n",
    "now = start_idx\n",
    "\n",
    "#num_visited = 0\n",
    "while(True):\n",
    "\n",
    "    unvisited_dijkstra_df = dijkstra_df.loc[(dijkstra_df['visited']  == False) & (dijkstra_df['length']  != np.inf)]\n",
    "    if unvisited_dijkstra_df.empty:\n",
    "        print('unvisited empty')\n",
    "        break\n",
    "\n",
    "    unvisited_dijkstra_df.sort_values(by=['length'])\n",
    "    now = unvisited_dijkstra_df.index[0]\n",
    "    #num_visited += 1\n",
    "    #print(\"visited\", now, \"total visit:\", num_visited)\n",
    "    now_length = dijkstra_df.loc[start_idx, \"length\"]\n",
    "    \n",
    "    dijkstra_df.loc[now, \"visited\"] = True\n",
    "    #dijkstra_df.loc[now, \"route\"] = [start_idx]\n",
    "\n",
    "    now_connected_link = total_link.loc[(total_link['idx노드1']  == now)]\n",
    "\n",
    "    for index, row in now_connected_link.iterrows():\n",
    "        search_node_num = row['idx노드2']\n",
    "        search_node_weight = row['weight']\n",
    "        #print(now, ' is connected to ', search_node_num)\n",
    "\n",
    "        if dijkstra_df.loc[search_node_num, \"visited\"] == True:\n",
    "            continue\n",
    "        \n",
    "        if dijkstra_df.loc[search_node_num, \"length\"] > (now_length + search_node_weight):\n",
    "            dijkstra_df.loc[search_node_num, \"length\"] = now_length + search_node_weight\n",
    "            # templist = dijkstra_df.loc[now, \"route\"].copy()\n",
    "            # templist.append(now)\n",
    "            # print(templist)\n",
    "            dijkstra_df.at[search_node_num, \"route\"] = now\n",
    "            #print(\"modified length of \",search_node_num)\n",
    "\n",
    "\n",
    "    now_connected_link = total_link.loc[(total_link['idx노드2']  == now)]\n",
    "    for index, row in now_connected_link.iterrows():\n",
    "        search_node_num = row['idx노드1']\n",
    "        search_node_weight = row['weight']\n",
    "        #print(now, ' is connected to ', search_node_num)\n",
    "\n",
    "        if dijkstra_df.loc[search_node_num, \"visited\"] == True:\n",
    "            continue\n",
    "        \n",
    "        if dijkstra_df.loc[search_node_num, \"length\"] > (now_length + search_node_weight):\n",
    "            dijkstra_df.loc[search_node_num, \"length\"] = now_length + search_node_weight\n",
    "            # templist = dijkstra_df.loc[now, \"route\"].copy()\n",
    "            # templist.append(now)\n",
    "            # print(templist)\n",
    "            dijkstra_df.at[search_node_num, \"route\"] = now\n",
    "            #print(\"modified length of \",search_node_num)\n"
   ]
  },
  {
   "cell_type": "markdown",
   "metadata": {},
   "source": [
    "# 최적화 방법\n",
    "\n",
    "특정 사각형 내에서만 link를 제한하여 그 안에서만 경로를 돌린다\n",
    "\n",
    "dictionary등으로 변경해본다\n",
    "\n",
    "첫번째 경로 찾으면 끊는다? 이게 과연 최단일까?"
   ]
  },
  {
   "cell_type": "markdown",
   "metadata": {},
   "source": [
    "# 결과 및 경로"
   ]
  },
  {
   "cell_type": "code",
   "execution_count": 168,
   "metadata": {},
   "outputs": [],
   "source": [
    "route_list = [[des_lat,des_lon]]\n",
    "cur_idx = end_idx\n",
    "\n",
    "\n",
    "while(True):\n",
    "    \n",
    "    cur_lat = total_node.loc[cur_idx, \"위도\"]\n",
    "    cur_lon = total_node.loc[cur_idx, \"경도\"]\n",
    "    route_list.append([cur_lat, cur_lon])\n",
    "    if cur_idx == start_idx:\n",
    "        break\n",
    "    \n",
    "    cur_idx = dijkstra_df.loc[cur_idx, \"route\"]\n",
    "\n",
    "route_list.append([dep_lat, dep_lon])\n"
   ]
  },
  {
   "cell_type": "code",
   "execution_count": 169,
   "metadata": {},
   "outputs": [
    {
     "data": {
      "text/plain": [
       "[[37.27559414340661, 127.04224810694416],\n",
       " [37.27537681670567, 127.04190727247848],\n",
       " [37.27532176874983, 127.04207085685998],\n",
       " [37.27530643387199, 127.04211643392372],\n",
       " [37.27546965314273, 127.0422055656462],\n",
       " [37.27591319348564, 127.04244778152082],\n",
       " [37.275927256040845, 127.04245545688902],\n",
       " [37.27598576032505, 127.04248071240649],\n",
       " [37.27600806717677, 127.04241333410408],\n",
       " [37.27611122200804, 127.04210173919992],\n",
       " [37.27619472621016, 127.04183127820328],\n",
       " [37.27619961463696, 127.0418175819563],\n",
       " [37.27621930375612, 127.04176238780047],\n",
       " [37.27625301631317, 127.04165074559926],\n",
       " [37.27625700222419, 127.0416386272092],\n",
       " [37.27641034209876, 127.04117287770228],\n",
       " [37.27651638352273, 127.04084222829093],\n",
       " [37.27654541948208, 127.0407516776704],\n",
       " [37.27657281604443, 127.04065818612892],\n",
       " [37.27658259466218, 127.04062481500436],\n",
       " [37.27686523076376, 127.03975708237924],\n",
       " [37.27711051820087, 127.04079216093226]]"
      ]
     },
     "execution_count": 169,
     "metadata": {},
     "output_type": "execute_result"
    }
   ],
   "source": [
    "route_list"
   ]
  },
  {
   "cell_type": "code",
   "execution_count": null,
   "metadata": {},
   "outputs": [],
   "source": []
  },
  {
   "cell_type": "code",
   "execution_count": 170,
   "metadata": {},
   "outputs": [
    {
     "ename": "SyntaxError",
     "evalue": "incomplete input (2211525418.py, line 3)",
     "output_type": "error",
     "traceback": [
      "\u001b[1;36m  Cell \u001b[1;32mIn [170], line 3\u001b[1;36m\u001b[0m\n\u001b[1;33m    \u001b[0m\n\u001b[1;37m    ^\u001b[0m\n\u001b[1;31mSyntaxError\u001b[0m\u001b[1;31m:\u001b[0m incomplete input\n"
     ]
    }
   ],
   "source": [
    "now_connected_link = total_link.loc[(total_link['idx노드1']  == now)]\n",
    "for i in range(now_connected_link.shape[0]):\n",
    "    "
   ]
  },
  {
   "cell_type": "code",
   "execution_count": null,
   "metadata": {},
   "outputs": [],
   "source": [
    "#get_Nearest_Node 함수가 완성되어 가장 가까운 노드가 여기라고 가정하자\n",
    "\n",
    "start_lat = 37.2793947321759\n",
    "start_lon = 127.016818947031\n",
    "end_lat = 37.2795395918437\n",
    "end_lon = 127.016815561923\n",
    "\n",
    "\n",
    "\n",
    "#이거말고 start idx end idx 해야 편할듯"
   ]
  },
  {
   "cell_type": "code",
   "execution_count": null,
   "metadata": {},
   "outputs": [
    {
     "data": {
      "text/html": [
       "<div>\n",
       "<style scoped>\n",
       "    .dataframe tbody tr th:only-of-type {\n",
       "        vertical-align: middle;\n",
       "    }\n",
       "\n",
       "    .dataframe tbody tr th {\n",
       "        vertical-align: top;\n",
       "    }\n",
       "\n",
       "    .dataframe thead th {\n",
       "        text-align: right;\n",
       "    }\n",
       "</style>\n",
       "<table border=\"1\" class=\"dataframe\">\n",
       "  <thead>\n",
       "    <tr style=\"text-align: right;\">\n",
       "      <th></th>\n",
       "      <th>노드1</th>\n",
       "      <th>노드2</th>\n",
       "      <th>weight</th>\n",
       "      <th>거리</th>\n",
       "      <th>경찰서</th>\n",
       "      <th>공원</th>\n",
       "      <th>cctv</th>\n",
       "      <th>가로등</th>\n",
       "      <th>골목상권</th>\n",
       "      <th>공공체육시설</th>\n",
       "      <th>공동주택</th>\n",
       "      <th>노인복지시설</th>\n",
       "      <th>녹지</th>\n",
       "      <th>보안등</th>\n",
       "      <th>비상급수시설</th>\n",
       "      <th>지역아동센터</th>\n",
       "      <th>청소년공부방</th>\n",
       "      <th>어린이놀이시설</th>\n",
       "    </tr>\n",
       "  </thead>\n",
       "  <tbody>\n",
       "  </tbody>\n",
       "</table>\n",
       "</div>"
      ],
      "text/plain": [
       "Empty DataFrame\n",
       "Columns: [노드1, 노드2, weight, 거리, 경찰서, 공원, cctv, 가로등, 골목상권, 공공체육시설, 공동주택, 노인복지시설, 녹지, 보안등, 비상급수시설, 지역아동센터, 청소년공부방, 어린이놀이시설]\n",
       "Index: []"
      ]
     },
     "execution_count": 88,
     "metadata": {},
     "output_type": "execute_result"
    }
   ],
   "source": [
    "tempstart_df = total_link.loc[(total_link['노드1']  == start_coordinate)]# & (total_node['위도'] < latitude + length_filter) & (total_node['경도'] < longitude - length_filter) & (total_node['경도'] < longitude + length_filter)]\n",
    "\n",
    "\n",
    "tempstart_df"
   ]
  },
  {
   "cell_type": "code",
   "execution_count": null,
   "metadata": {},
   "outputs": [
    {
     "data": {
      "text/html": [
       "<div>\n",
       "<style scoped>\n",
       "    .dataframe tbody tr th:only-of-type {\n",
       "        vertical-align: middle;\n",
       "    }\n",
       "\n",
       "    .dataframe tbody tr th {\n",
       "        vertical-align: top;\n",
       "    }\n",
       "\n",
       "    .dataframe thead th {\n",
       "        text-align: right;\n",
       "    }\n",
       "</style>\n",
       "<table border=\"1\" class=\"dataframe\">\n",
       "  <thead>\n",
       "    <tr style=\"text-align: right;\">\n",
       "      <th></th>\n",
       "      <th>경도</th>\n",
       "      <th>위도</th>\n",
       "    </tr>\n",
       "  </thead>\n",
       "  <tbody>\n",
       "    <tr>\n",
       "      <th>458108</th>\n",
       "      <td>127.039858</td>\n",
       "      <td>37.237389</td>\n",
       "    </tr>\n",
       "    <tr>\n",
       "      <th>458109</th>\n",
       "      <td>127.039858</td>\n",
       "      <td>37.237389</td>\n",
       "    </tr>\n",
       "  </tbody>\n",
       "</table>\n",
       "</div>"
      ],
      "text/plain": [
       "                경도         위도\n",
       "458108  127.039858  37.237389\n",
       "458109  127.039858  37.237389"
      ]
     },
     "execution_count": 96,
     "metadata": {},
     "output_type": "execute_result"
    }
   ],
   "source": [
    "\n",
    "\n",
    "filnode_lat = total_node['위도'][458109]\n",
    "filnode_lon = total_node['경도'][458109]\n",
    "\n",
    "\n",
    "filnode_df = total_node.loc[(total_node['위도'] == filnode_lat) & (total_node['경도'] == filnode_lon)]\n",
    "filnode_df\n",
    "\n",
    "fillink_df"
   ]
  },
  {
   "cell_type": "code",
   "execution_count": null,
   "metadata": {},
   "outputs": [
    {
     "name": "stdout",
     "output_type": "stream",
     "text": [
      "0\n",
      "(2, 22) 799\n",
      "(2, 22) 2157\n",
      "(2, 22) 2500\n",
      "(2, 22) 6696\n",
      "(3, 22) 7321\n",
      "(2, 22) 9026\n",
      "(2, 22) 9304\n",
      "10000\n",
      "(2, 22) 19265\n",
      "(2, 22) 19290\n",
      "(2, 22) 19408\n",
      "20000\n",
      "(2, 22) 23065\n",
      "(2, 22) 25223\n",
      "(2, 22) 25795\n",
      "(2, 22) 29056\n",
      "(2, 22) 29963\n",
      "30000\n",
      "(2, 22) 31996\n",
      "(2, 22) 33087\n",
      "(2, 22) 33095\n",
      "(2, 22) 33126\n",
      "(2, 22) 33320\n",
      "(2, 22) 33568\n",
      "(2, 22) 33849\n",
      "(2, 22) 33857\n",
      "(2, 22) 33979\n",
      "(2, 22) 34039\n",
      "(2, 22) 34970\n",
      "(2, 22) 35015\n",
      "(2, 22) 35081\n",
      "(2, 22) 35157\n",
      "(4, 22) 35707\n",
      "(3, 22) 35997\n",
      "(2, 22) 36233\n",
      "(3, 22) 36269\n",
      "40000\n",
      "(2, 22) 40006\n",
      "(2, 22) 40955\n",
      "(2, 22) 45520\n",
      "(2, 22) 47462\n",
      "(2, 22) 48495\n",
      "50000\n",
      "(2, 22) 50713\n",
      "(2, 22) 50720\n",
      "(2, 22) 50740\n",
      "(2, 22) 50790\n"
     ]
    },
    {
     "ename": "KeyboardInterrupt",
     "evalue": "",
     "output_type": "error",
     "traceback": [
      "\u001b[1;31m---------------------------------------------------------------------------\u001b[0m",
      "\u001b[1;31mKeyboardInterrupt\u001b[0m                         Traceback (most recent call last)",
      "\u001b[1;32md:\\OneDrive - 아주대학교\\5-1\\CapDesign2\\dijk.ipynb Cell 23\u001b[0m line \u001b[0;36m1\n\u001b[0;32m      <a href='vscode-notebook-cell:/d%3A/OneDrive%20-%20%EC%95%84%EC%A3%BC%EB%8C%80%ED%95%99%EA%B5%90/5-1/CapDesign2/dijk.ipynb#X24sZmlsZQ%3D%3D?line=8'>9</a>\u001b[0m filnode_lat \u001b[39m=\u001b[39m total_node[\u001b[39m'\u001b[39m\u001b[39m위도반올림\u001b[39m\u001b[39m'\u001b[39m][i]\n\u001b[0;32m     <a href='vscode-notebook-cell:/d%3A/OneDrive%20-%20%EC%95%84%EC%A3%BC%EB%8C%80%ED%95%99%EA%B5%90/5-1/CapDesign2/dijk.ipynb#X24sZmlsZQ%3D%3D?line=9'>10</a>\u001b[0m filnode_lon \u001b[39m=\u001b[39m total_node[\u001b[39m'\u001b[39m\u001b[39m경도반올림\u001b[39m\u001b[39m'\u001b[39m][i]\n\u001b[1;32m---> <a href='vscode-notebook-cell:/d%3A/OneDrive%20-%20%EC%95%84%EC%A3%BC%EB%8C%80%ED%95%99%EA%B5%90/5-1/CapDesign2/dijk.ipynb#X24sZmlsZQ%3D%3D?line=11'>12</a>\u001b[0m fillink_df \u001b[39m=\u001b[39m total_link\u001b[39m.\u001b[39;49mloc[(total_link[\u001b[39m'\u001b[39;49m\u001b[39m노드1위도\u001b[39;49m\u001b[39m'\u001b[39;49m]  \u001b[39m==\u001b[39;49m filnode_lat) \u001b[39m&\u001b[39;49m (total_link[\u001b[39m'\u001b[39;49m\u001b[39m노드1경도\u001b[39;49m\u001b[39m'\u001b[39;49m]  \u001b[39m==\u001b[39;49m filnode_lon)]\n\u001b[0;32m     <a href='vscode-notebook-cell:/d%3A/OneDrive%20-%20%EC%95%84%EC%A3%BC%EB%8C%80%ED%95%99%EA%B5%90/5-1/CapDesign2/dijk.ipynb#X24sZmlsZQ%3D%3D?line=12'>13</a>\u001b[0m \u001b[39mif\u001b[39;00m fillink_df\u001b[39m.\u001b[39mshape[\u001b[39m0\u001b[39m] \u001b[39m>\u001b[39m \u001b[39m1\u001b[39m:\n\u001b[0;32m     <a href='vscode-notebook-cell:/d%3A/OneDrive%20-%20%EC%95%84%EC%A3%BC%EB%8C%80%ED%95%99%EA%B5%90/5-1/CapDesign2/dijk.ipynb#X24sZmlsZQ%3D%3D?line=13'>14</a>\u001b[0m     \u001b[39mprint\u001b[39m(fillink_df\u001b[39m.\u001b[39mshape, i)\n",
      "File \u001b[1;32mc:\\Users\\sjk97\\AppData\\Local\\Programs\\Python\\Python310\\lib\\site-packages\\pandas\\core\\indexing.py:1103\u001b[0m, in \u001b[0;36m_LocationIndexer.__getitem__\u001b[1;34m(self, key)\u001b[0m\n\u001b[0;32m   1100\u001b[0m axis \u001b[39m=\u001b[39m \u001b[39mself\u001b[39m\u001b[39m.\u001b[39maxis \u001b[39mor\u001b[39;00m \u001b[39m0\u001b[39m\n\u001b[0;32m   1102\u001b[0m maybe_callable \u001b[39m=\u001b[39m com\u001b[39m.\u001b[39mapply_if_callable(key, \u001b[39mself\u001b[39m\u001b[39m.\u001b[39mobj)\n\u001b[1;32m-> 1103\u001b[0m \u001b[39mreturn\u001b[39;00m \u001b[39mself\u001b[39;49m\u001b[39m.\u001b[39;49m_getitem_axis(maybe_callable, axis\u001b[39m=\u001b[39;49maxis)\n",
      "File \u001b[1;32mc:\\Users\\sjk97\\AppData\\Local\\Programs\\Python\\Python310\\lib\\site-packages\\pandas\\core\\indexing.py:1325\u001b[0m, in \u001b[0;36m_LocIndexer._getitem_axis\u001b[1;34m(self, key, axis)\u001b[0m\n\u001b[0;32m   1323\u001b[0m     \u001b[39mreturn\u001b[39;00m \u001b[39mself\u001b[39m\u001b[39m.\u001b[39m_get_slice_axis(key, axis\u001b[39m=\u001b[39maxis)\n\u001b[0;32m   1324\u001b[0m \u001b[39melif\u001b[39;00m com\u001b[39m.\u001b[39mis_bool_indexer(key):\n\u001b[1;32m-> 1325\u001b[0m     \u001b[39mreturn\u001b[39;00m \u001b[39mself\u001b[39;49m\u001b[39m.\u001b[39;49m_getbool_axis(key, axis\u001b[39m=\u001b[39;49maxis)\n\u001b[0;32m   1326\u001b[0m \u001b[39melif\u001b[39;00m is_list_like_indexer(key):\n\u001b[0;32m   1327\u001b[0m     \u001b[39m# an iterable multi-selection\u001b[39;00m\n\u001b[0;32m   1328\u001b[0m     \u001b[39mif\u001b[39;00m \u001b[39mnot\u001b[39;00m (\u001b[39misinstance\u001b[39m(key, \u001b[39mtuple\u001b[39m) \u001b[39mand\u001b[39;00m \u001b[39misinstance\u001b[39m(labels, MultiIndex)):\n",
      "File \u001b[1;32mc:\\Users\\sjk97\\AppData\\Local\\Programs\\Python\\Python310\\lib\\site-packages\\pandas\\core\\indexing.py:1122\u001b[0m, in \u001b[0;36m_LocationIndexer._getbool_axis\u001b[1;34m(self, key, axis)\u001b[0m\n\u001b[0;32m   1120\u001b[0m labels \u001b[39m=\u001b[39m \u001b[39mself\u001b[39m\u001b[39m.\u001b[39mobj\u001b[39m.\u001b[39m_get_axis(axis)\n\u001b[0;32m   1121\u001b[0m key \u001b[39m=\u001b[39m check_bool_indexer(labels, key)\n\u001b[1;32m-> 1122\u001b[0m inds \u001b[39m=\u001b[39m key\u001b[39m.\u001b[39;49mnonzero()[\u001b[39m0\u001b[39m]\n\u001b[0;32m   1123\u001b[0m \u001b[39mreturn\u001b[39;00m \u001b[39mself\u001b[39m\u001b[39m.\u001b[39mobj\u001b[39m.\u001b[39m_take_with_is_copy(inds, axis\u001b[39m=\u001b[39maxis)\n",
      "\u001b[1;31mKeyboardInterrupt\u001b[0m: "
     ]
    }
   ],
   "source": [
    "#링크와 노드 데이터가 매칭되는지 확인했던 함수이며 안쓰일것\n",
    "\n",
    "\n",
    "for i in range(461109):\n",
    "    filnode_lat = total_node['위도반올림'][i]\n",
    "    filnode_lon = total_node['경도반올림'][i]\n",
    "    \n",
    "    fillink_df = total_link.loc[(total_link['노드1위도']  == filnode_lat) & (total_link['노드1경도']  == filnode_lon)]\n",
    "    if fillink_df.shape[0] > 1:\n",
    "        print(fillink_df.shape, i)\n",
    "    if i % 10000 == 0:\n",
    "        print(i)"
   ]
  },
  {
   "cell_type": "code",
   "execution_count": null,
   "metadata": {},
   "outputs": [
    {
     "name": "stdout",
     "output_type": "stream",
     "text": [
      "127.016819\n"
     ]
    }
   ],
   "source": [
    "for i in range(461109):\n",
    "    filnode_lat = total_node['위도'][i]\n",
    "    filnode_lon = total_node['경도'][i]\n",
    "    "
   ]
  }
 ],
 "metadata": {
  "kernelspec": {
   "display_name": "Python 3",
   "language": "python",
   "name": "python3"
  },
  "language_info": {
   "codemirror_mode": {
    "name": "ipython",
    "version": 3
   },
   "file_extension": ".py",
   "mimetype": "text/x-python",
   "name": "python",
   "nbconvert_exporter": "python",
   "pygments_lexer": "ipython3",
   "version": "3.10.7"
  }
 },
 "nbformat": 4,
 "nbformat_minor": 2
}
