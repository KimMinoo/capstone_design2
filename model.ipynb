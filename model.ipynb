{
 "cells": [
  {
   "cell_type": "markdown",
   "metadata": {},
   "source": [
    "**XGBoost(eXtra Gradient Boosting)**"
   ]
  },
  {
   "cell_type": "code",
   "execution_count": 3,
   "metadata": {},
   "outputs": [
    {
     "name": "stdout",
     "output_type": "stream",
     "text": [
      "[0]\tvalidation_0-logloss:0.68553\n",
      "[1]\tvalidation_0-logloss:0.67924\n",
      "[2]\tvalidation_0-logloss:0.67411\n",
      "[3]\tvalidation_0-logloss:0.66999\n",
      "[4]\tvalidation_0-logloss:0.66206\n",
      "[5]\tvalidation_0-logloss:0.65959\n",
      "[6]\tvalidation_0-logloss:0.65783\n",
      "[7]\tvalidation_0-logloss:0.65667\n",
      "[8]\tvalidation_0-logloss:0.65606\n",
      "[9]\tvalidation_0-logloss:0.65592\n",
      "[10]\tvalidation_0-logloss:0.65620\n",
      "[11]\tvalidation_0-logloss:0.65684\n",
      "[12]\tvalidation_0-logloss:0.65780\n",
      "[13]\tvalidation_0-logloss:0.65904\n",
      "[14]\tvalidation_0-logloss:0.66051\n",
      "[15]\tvalidation_0-logloss:0.66220\n",
      "[16]\tvalidation_0-logloss:0.66407\n",
      "[17]\tvalidation_0-logloss:0.66751\n",
      "[18]\tvalidation_0-logloss:0.66482\n",
      "[19]\tvalidation_0-logloss:0.66711\n",
      "[20]\tvalidation_0-logloss:0.67080\n",
      "[21]\tvalidation_0-logloss:0.67324\n",
      "[22]\tvalidation_0-logloss:0.67702\n",
      "[23]\tvalidation_0-logloss:0.67496\n",
      "[24]\tvalidation_0-logloss:0.67875\n"
     ]
    },
    {
     "name": "stdout",
     "output_type": "stream",
     "text": [
      "[25]\tvalidation_0-logloss:0.67697\n",
      "[26]\tvalidation_0-logloss:0.67898\n",
      "[27]\tvalidation_0-logloss:0.68100\n",
      "[28]\tvalidation_0-logloss:0.68303\n",
      "[29]\tvalidation_0-logloss:0.68011\n",
      "predict() 수행 결과값 10개만 표시\n",
      "[1 1 1 1 0 0 1 0 0 1]\n",
      "예측 분류 10개만 표시\n",
      "[1, 1, 1, 1, 0, 0, 1, 0, 0, 1]\n",
      "[1, 1, 1, 1, 0]\n",
      "정확도:  0.7435897435897436\n",
      "오차 행렬\n",
      "[[17  6]\n",
      " [ 4 12]]\n",
      "정확도: 0.7436, 정밀도: 0.6667, 재현율: 0.7500, F1: 0.7059, AUC: 0.7446\n"
     ]
    }
   ],
   "source": [
    "from xgboost import XGBClassifier\n",
    "from sklearn.ensemble import GradientBoostingClassifier\n",
    "from sklearn.metrics import *\n",
    "from sklearn.model_selection import GridSearchCV\n",
    "import pandas as pd\n",
    "import numpy as np\n",
    "from lightgbm import LGBMClassifier\n",
    "from sklearn.datasets import load_breast_cancer\n",
    "from sklearn.model_selection import train_test_split\n",
    "import time\n",
    "import warnings\n",
    "warnings.filterwarnings(action='ignore')\n",
    "\n",
    "data = pd.read_csv(\"C:/Users/gimm7/OneDrive/바탕 화면/위험도_데이터_10m.csv\", encoding='cp949')\n",
    "data.drop(['출처','노드1', '노드2', '거리','공원', '위험도', '골목상권','공공체육시설','공동주택', '노인복지시설', '녹지', '비상급수시설','지역아동센터','청소년공부방','어린이놀이시설'], axis=1, inplace=True)\n",
    "colunms = data.columns.to_list()\n",
    "colunms.pop()\n",
    "x_feature = data.iloc[:,:-1]\n",
    "y_label = data.iloc[:,-1]\n",
    "\n",
    "#표준 정규화\n",
    "from sklearn.preprocessing import StandardScaler\n",
    "\n",
    "scaler = StandardScaler()\n",
    "x_feature = scaler.fit_transform(x_feature)\n",
    "x_feature = pd.DataFrame(x_feature, columns=colunms)\n",
    "\n",
    "# #minmax 정규화\n",
    "# from sklearn.preprocessing import MinMaxScaler\n",
    "\n",
    "# scaler = MinMaxScaler()\n",
    "# x_feature = scaler.fit_transform(x_feature)\n",
    "# x_feature = pd.DataFrame(x_feature, columns=colunms)\n",
    "\n",
    "# #로버스트 정규화\n",
    "# from sklearn.preprocessing import RobustScaler\n",
    "\n",
    "# scaler = RobustScaler()\n",
    "# x_feature = scaler.fit_transform(x_feature)\n",
    "# x_feature = pd.DataFrame(x_feature, columns=colunms)\n",
    "\n",
    "# x_feature = x_feature.to_numpy()\n",
    "# y_label = y_label.to_numpy()\n",
    "\n",
    "# from sklearn.decomposition import PCA \n",
    "\n",
    "# pca = PCA(n_components=1)\n",
    "# pca.fit(x_feature) \n",
    "# df_pca = pca.transform(x_feature)\n",
    "\n",
    "x_train, x_test, y_train, y_test = train_test_split(x_feature, y_label, test_size=0.4, random_state = 42)\n",
    "x_train, x_val, y_train, y_val = train_test_split(x_train, y_train, test_size=0.5, random_state = 42)\n",
    "\n",
    "evals = [(x_val, y_val)]\n",
    "xgb_wrapper = XGBClassifier(n_estimators=30, learning_rate=0.07)\n",
    "\n",
    "# xgb_wrapper.fit(x_train, y_train,\n",
    "#                 eval_set=evals, eval_metric='merror')\n",
    "\n",
    "xgb_wrapper.fit(x_train, y_train,\n",
    "                eval_set=evals)\n",
    "\n",
    "\n",
    "\n",
    "# 예측 확률\n",
    "pred_proba = xgb_wrapper.predict(x_test)\n",
    "print(\"predict() 수행 결과값 10개만 표시\")\n",
    "print(np.round(pred_proba[:10], 3))\n",
    "\n",
    "# 예측 분류\n",
    "preds = [1 if x > 0.5 else 0 for x in pred_proba]\n",
    "print(\"예측 분류 10개만 표시\")\n",
    "print(f\"{preds[:10]}\")\n",
    "\n",
    "print(preds[:5])\n",
    "print(\"정확도: \", accuracy_score(y_test, preds))\n",
    "\n",
    "from sklearn.metrics import accuracy_score, precision_score, recall_score, confusion_matrix\n",
    "from sklearn.metrics import f1_score, roc_auc_score\n",
    "\n",
    "def get_clf_eval(y_test, pred=None, pred_proba_po=None):\n",
    "    confusion = confusion_matrix(y_test, pred)\n",
    "    accuracy = accuracy_score(y_test, pred)\n",
    "    precision = precision_score(y_test, pred)\n",
    "    recall = recall_score(y_test, pred)\n",
    "    f1 = f1_score(y_test, pred)\n",
    "    auc = roc_auc_score(y_test, pred_proba_po)\n",
    "   \n",
    "    print(\"오차 행렬\")\n",
    "    print(confusion)\n",
    "    print(f\"정확도: {accuracy:.4f}, 정밀도: {precision:.4f}, 재현율: {recall:.4f}, F1: {f1:.4f}, AUC: {auc:.4f}\")\n",
    "get_clf_eval(y_test, pred = preds, pred_proba_po = pred_proba)"
   ]
  },
  {
   "cell_type": "code",
   "execution_count": 7,
   "metadata": {},
   "outputs": [
    {
     "data": {
      "text/plain": [
       "<AxesSubplot:title={'center':'Feature importance'}, xlabel='F score', ylabel='Features'>"
      ]
     },
     "execution_count": 7,
     "metadata": {},
     "output_type": "execute_result"
    },
    {
     "data": {
      "image/png": "[encoded data removed]",
      "text/plain": [
       "<Figure size 648x792 with 1 Axes>"
      ]
     },
     "metadata": {
      "needs_background": "light"
     },
     "output_type": "display_data"
    }
   ],
   "source": [
    "from xgboost import plot_importance\n",
    "import matplotlib.pyplot as plt\n",
    "\n",
    "fig, ax = plt.subplots(figsize=(9,11))\n",
    "plot_importance(xgb_wrapper, ax)"
   ]
  },
  {
   "cell_type": "code",
   "execution_count": 30,
   "metadata": {},
   "outputs": [],
   "source": [
    "total_data = pd.read_csv(\"C:/Users/gimm7/OneDrive/바탕 화면/modified_link.csv\")\n",
    "x_f = total_data.loc[:,['경찰서', 'cctv', '가로등', '보안등']]\n",
    "colunms = x_f.columns.to_list()\n",
    "\n",
    "\n",
    "#표준 정규화\n",
    "from sklearn.preprocessing import StandardScaler\n",
    "import seaborn as sns\n",
    "\n",
    "scaler = StandardScaler()\n",
    "x_f = scaler.fit_transform(x_f)\n",
    "x_f = pd.DataFrame(x_f, columns=colunms)\n",
    "\n",
    "# 예측 확률\n",
    "pred_proba = xgb_wrapper.predict(x_f)\n",
    "# 예측 분류\n",
    "preds = [1 if x > 0.5 else 0 for x in pred_proba]\n",
    "\n",
    "preds = pd.DataFrame(preds, columns=[\"위험도\"])\n",
    "total_data = pd.concat([total_data, preds], axis=1)\n",
    "total_data.drop(['공원','골목상권','공공체육시설','공동주택', '노인복지시설', '녹지', '비상급수시설','지역아동센터','청소년공부방','어린이놀이시설'], axis=1, inplace=True)\n",
    "total_data.to_csv(\"C:/Users/gimm7/OneDrive/바탕 화면/prediction_link.csv\")"
   ]
  }
 ],
 "metadata": {
  "kernelspec": {
   "display_name": "base",
   "language": "python",
   "name": "python3"
  },
  "language_info": {
   "codemirror_mode": {
    "name": "ipython",
    "version": 3
   },
   "file_extension": ".py",
   "mimetype": "text/x-python",
   "name": "python",
   "nbconvert_exporter": "python",
   "pygments_lexer": "ipython3",
   "version": "3.9.12"
  }
 },
 "nbformat": 4,
 "nbformat_minor": 2
}
